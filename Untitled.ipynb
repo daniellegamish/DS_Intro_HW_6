{
 "cells": [
  {
   "cell_type": "code",
   "execution_count": null,
   "id": "e0bf2a79",
   "metadata": {},
   "outputs": [],
   "source": [
    "import pandas as pd\n",
    "import numpy as np\n",
    "import matplotlib.pyplot as plt"
   ]
  },
  {
   "cell_type": "code",
   "execution_count": null,
   "id": "c2ab248e",
   "metadata": {},
   "outputs": [],
   "source": [
    "# df= pd.read_csv(\"LP_destinations.csv\", encoding='utf8')\n",
    "df=pd.read_csv('/content/drive/MyDrive/LP_destinations.csv', encoding='utf8')\n",
    "df = df.set_index('city')\n",
    "df.head()"
   ]
  },
  {
   "cell_type": "code",
   "execution_count": null,
   "id": "3a2188c8",
   "metadata": {},
   "outputs": [],
   "source": [
    "df['num_of_words'] = df['description'].str.count(' ') + 1\n",
    "df.head()"
   ]
  },
  {
   "cell_type": "code",
   "execution_count": null,
   "id": "3cc5f246",
   "metadata": {},
   "outputs": [],
   "source": [
    "df[\"No_punct_description\"] = df[\"description\"].str.replace('[^\\w\\s]' or \"/n\",'')\n",
    "df.head()"
   ]
  },
  {
   "cell_type": "code",
   "execution_count": null,
   "id": "b9c65e2d",
   "metadata": {},
   "outputs": [],
   "source": [
    "df[\"has_restaurants\"]= df.description.str.count(\"restaurant\")\n",
    "df.head()"
   ]
  },
  {
   "cell_type": "code",
   "execution_count": null,
   "id": "dc1c69d8",
   "metadata": {},
   "outputs": [],
   "source": [
    "df[\"has_museums\"]= df.description.str.count(\"museum\")\n",
    "df.head()"
   ]
  },
  {
   "cell_type": "code",
   "execution_count": null,
   "id": "f04b360e",
   "metadata": {},
   "outputs": [],
   "source": [
    "df[\"has_beaches\"]= df.description.str.count(\"beach|ocean|sea\")\n",
    "df.head()"
   ]
  },
  {
   "cell_type": "code",
   "execution_count": null,
   "id": "98d7c558",
   "metadata": {},
   "outputs": [],
   "source": [
    "average_of_words=sum(df[\"num_of_words\"])/len(df[\"num_of_words\"])\n",
    "print(\"The average of words in the description is: \" + str(round(average_of_words,2)))"
   ]
  },
  {
   "cell_type": "code",
   "execution_count": null,
   "id": "46083560",
   "metadata": {},
   "outputs": [],
   "source": [
    "city_with_longest_description=df[\"num_of_words\"].idxmax()\n",
    "print(\"The city with the longest description is: \" + city_with_longest_description)"
   ]
  },
  {
   "cell_type": "code",
   "execution_count": null,
   "id": "b2719f74",
   "metadata": {},
   "outputs": [],
   "source": [
    "hist_num_of_words= df[\"num_of_words\"].plot.hist(\"city\")"
   ]
  },
  {
   "cell_type": "code",
   "execution_count": null,
   "id": "57c2f547",
   "metadata": {},
   "outputs": [],
   "source": [
    "plt.scatter(df[\"has_beaches\"],df[\"has_restaurants\"])\n",
    "plt.title(\"Scatter plot of num of beaches vs num of restaurants\")\n",
    "plt.xlabel(\"num of beaches\")\n",
    "plt.ylabel(\"num of restaurants\")\n",
    "plt.show()"
   ]
  },
  {
   "cell_type": "code",
   "execution_count": null,
   "id": "6ae3896b",
   "metadata": {},
   "outputs": [],
   "source": [
    "plt.scatter(df[\"has_museums\"],df[\"has_beaches\"])\n",
    "plt.title(\"Scatter plot of num of museums vs num of beaches\")\n",
    "plt.xlabel(\"num of museums\")\n",
    "plt.ylabel(\"num of beaches\")\n",
    "plt.show()"
   ]
  },
  {
   "cell_type": "code",
   "execution_count": null,
   "id": "c925a90e",
   "metadata": {},
   "outputs": [],
   "source": []
  }
 ],
 "metadata": {
  "kernelspec": {
   "display_name": "Python 3 (ipykernel)",
   "language": "python",
   "name": "python3"
  },
  "language_info": {
   "codemirror_mode": {
    "name": "ipython",
    "version": 3
   },
   "file_extension": ".py",
   "mimetype": "text/x-python",
   "name": "python",
   "nbconvert_exporter": "python",
   "pygments_lexer": "ipython3",
   "version": "3.9.7"
  }
 },
 "nbformat": 4,
 "nbformat_minor": 5
}
